{
 "cells": [
  {
   "cell_type": "code",
   "execution_count": 4,
   "metadata": {},
   "outputs": [
    {
     "name": "stdout",
     "output_type": "stream",
     "text": [
      "Value is less than 18\n"
     ]
    }
   ],
   "source": [
    "user=int(input(\"Enter a number\"))\n",
    "\n",
    "if(user>40):\n",
    "    print(\"Value is greater than 18\")\n",
    "elif(user>=30 and user<=25):\n",
    "    print(\"Value is b/w 25 and 30\")\n",
    "elif(user>18):\n",
    "    print(\"Value is more than 18\")\n",
    "else:\n",
    "    print(\"Value is less than 18\")\n"
   ]
  }
 ],
 "metadata": {
  "kernelspec": {
   "display_name": "Python 3",
   "language": "python",
   "name": "python3"
  },
  "language_info": {
   "codemirror_mode": {
    "name": "ipython",
    "version": 3
   },
   "file_extension": ".py",
   "mimetype": "text/x-python",
   "name": "python",
   "nbconvert_exporter": "python",
   "pygments_lexer": "ipython3",
   "version": "3.11.3"
  },
  "orig_nbformat": 4
 },
 "nbformat": 4,
 "nbformat_minor": 2
}
