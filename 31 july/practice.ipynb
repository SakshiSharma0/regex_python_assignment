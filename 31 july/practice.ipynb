{
  "nbformat": 4,
  "nbformat_minor": 0,
  "metadata": {
    "colab": {
      "provenance": []
    },
    "kernelspec": {
      "name": "python3",
      "display_name": "Python 3"
    },
    "language_info": {
      "name": "python"
    }
  },
  "cells": [
    {
      "cell_type": "code",
      "execution_count": 4,
      "metadata": {
        "colab": {
          "base_uri": "https://localhost:8080/"
        },
        "id": "zGIU8Kf8JV5X",
        "outputId": "5b5fae0e-35b2-4e1e-f702-482320341834"
      },
      "outputs": [
        {
          "output_type": "stream",
          "name": "stdout",
          "text": [
            "hello world\n",
            "tushar goyal\n"
          ]
        }
      ],
      "source": [
        "print(\"hello world\",end=\"\\n\")\n",
        "print(\"tushar goyal\")\n"
      ]
    },
    {
      "cell_type": "code",
      "source": [
        "print(\"hello world\",\"yash\",sep=\"-\")"
      ],
      "metadata": {
        "colab": {
          "base_uri": "https://localhost:8080/"
        },
        "id": "KxNDo8lbLLKW",
        "outputId": "b65516cf-2d31-48be-ac96-815c6d324000"
      },
      "execution_count": 5,
      "outputs": [
        {
          "output_type": "stream",
          "name": "stdout",
          "text": [
            "hello world-yash\n"
          ]
        }
      ]
    },
    {
      "cell_type": "code",
      "source": [
        "print(\"hello world\",end=\"$\")\n",
        "print(\"yash\")"
      ],
      "metadata": {
        "colab": {
          "base_uri": "https://localhost:8080/"
        },
        "id": "UYt7LFeJLaHl",
        "outputId": "321c2593-d608-4efa-db19-1efb0e17051c"
      },
      "execution_count": 6,
      "outputs": [
        {
          "output_type": "stream",
          "name": "stdout",
          "text": [
            "hello world$yash\n"
          ]
        }
      ]
    },
    {
      "cell_type": "code",
      "source": [
        "x=10\n",
        "print(type(x))"
      ],
      "metadata": {
        "colab": {
          "base_uri": "https://localhost:8080/"
        },
        "id": "2eDG2H1dLuP7",
        "outputId": "2127efb8-e692-414f-aa1c-e66c8f98a663"
      },
      "execution_count": 7,
      "outputs": [
        {
          "output_type": "stream",
          "name": "stdout",
          "text": [
            "<class 'int'>\n"
          ]
        }
      ]
    },
    {
      "cell_type": "code",
      "source": [
        "address = \"\"\"Street name\n",
        "city\n",
        "state\n",
        "country\"\"\"\n",
        "print(address)"
      ],
      "metadata": {
        "colab": {
          "base_uri": "https://localhost:8080/"
        },
        "id": "p8iVpVFpL5kF",
        "outputId": "797b4ba4-ffa5-4606-fbdc-0ce50e545eca"
      },
      "execution_count": 10,
      "outputs": [
        {
          "output_type": "stream",
          "name": "stdout",
          "text": [
            "Street name\n",
            "city\n",
            "state\n",
            "country\n"
          ]
        }
      ]
    },
    {
      "cell_type": "code",
      "source": [
        "#hey  -- single line\n",
        "'''hello\n",
        "how are you'''\n",
        "#print(\"g\")"
      ],
      "metadata": {
        "colab": {
          "base_uri": "https://localhost:8080/",
          "height": 36
        },
        "id": "EcEjdr0RM81y",
        "outputId": "d401c5eb-76fd-44d7-d525-55c2f52ab4fb"
      },
      "execution_count": 14,
      "outputs": [
        {
          "output_type": "execute_result",
          "data": {
            "text/plain": [
              "'hello\\nhow are you'"
            ],
            "application/vnd.google.colaboratory.intrinsic+json": {
              "type": "string"
            }
          },
          "metadata": {},
          "execution_count": 14
        }
      ]
    },
    {
      "cell_type": "code",
      "source": [
        "#comment vs docstring"
      ],
      "metadata": {
        "id": "Xz68RaaXNstZ"
      },
      "execution_count": 16,
      "outputs": []
    },
    {
      "cell_type": "code",
      "source": [
        "#string formatting\n",
        "#string format krna\n",
        "age =10\n",
        "company =\"regex\"\n",
        "\n",
        "print(f\"age : {age} company : {company}\")"
      ],
      "metadata": {
        "colab": {
          "base_uri": "https://localhost:8080/"
        },
        "id": "5t9goH5HOCXS",
        "outputId": "e0d82873-87db-41d3-fea6-7910621764a8"
      },
      "execution_count": 17,
      "outputs": [
        {
          "output_type": "stream",
          "name": "stdout",
          "text": [
            "age : 10 company : regex\n"
          ]
        }
      ]
    },
    {
      "cell_type": "code",
      "source": [
        "f=\"t\"\n",
        "print(f,id(f))\n",
        "\n",
        "f=\"g\"\n",
        "print(f,id(f))\n",
        "\n",
        "#immutable datatype because memory address changed"
      ],
      "metadata": {
        "colab": {
          "base_uri": "https://localhost:8080/"
        },
        "id": "YHiYYyoZPi7W",
        "outputId": "d1c6da25-f8e6-47b0-bacb-0613e01f0c39"
      },
      "execution_count": 19,
      "outputs": [
        {
          "output_type": "stream",
          "name": "stdout",
          "text": [
            "t 137801362166256\n",
            "g 137801362510320\n"
          ]
        }
      ]
    },
    {
      "cell_type": "code",
      "source": [
        "f=\"t\"\n",
        "\n",
        "full=\"t\"\n",
        "print(f,id(f),full,id(full))\n",
        "#memory address is same here"
      ],
      "metadata": {
        "colab": {
          "base_uri": "https://localhost:8080/"
        },
        "id": "bVwcx_UUQCfP",
        "outputId": "f9d93506-0ec1-4362-cb4d-0397537e3918"
      },
      "execution_count": 21,
      "outputs": [
        {
          "output_type": "stream",
          "name": "stdout",
          "text": [
            "t 137801362166256 t 137801362166256\n"
          ]
        }
      ]
    },
    {
      "cell_type": "code",
      "source": [
        "user = \"tushar\"\n",
        "# {} placeholder\n",
        "msg=f\"hello user {user}\"\n",
        "\n",
        "print(msg)\n",
        "user=\"regex\"\n",
        "print(msg)"
      ],
      "metadata": {
        "colab": {
          "base_uri": "https://localhost:8080/"
        },
        "id": "wXUvZV-uQ1eC",
        "outputId": "7a3e086a-bd68-4738-c958-67df7a30dfe4"
      },
      "execution_count": 22,
      "outputs": [
        {
          "output_type": "stream",
          "name": "stdout",
          "text": [
            "hello user tushar\n",
            "hello user tushar\n"
          ]
        }
      ]
    },
    {
      "cell_type": "code",
      "source": [
        "# {} placeholder\n",
        "print(\"hey {} tushar {}\".format(10,20))"
      ],
      "metadata": {
        "colab": {
          "base_uri": "https://localhost:8080/"
        },
        "id": "6K5dpV4sTljz",
        "outputId": "bd5583b5-40a8-482b-9292-70bcf924b3d1"
      },
      "execution_count": 24,
      "outputs": [
        {
          "output_type": "stream",
          "name": "stdout",
          "text": [
            "hey 10 tushar 20\n"
          ]
        }
      ]
    },
    {
      "cell_type": "code",
      "source": [
        "# {} placeholder\n",
        "x=10\n",
        "y=20\n",
        "print(\"hey {0} tushar {1}\".format(x,y))\n",
        "print(\"hey {1} tushar {0}\".format(x,y))\n"
      ],
      "metadata": {
        "colab": {
          "base_uri": "https://localhost:8080/"
        },
        "id": "Up1xlVqxT0kI",
        "outputId": "90219763-581d-48a1-8970-b0b2645d0db1"
      },
      "execution_count": 26,
      "outputs": [
        {
          "output_type": "stream",
          "name": "stdout",
          "text": [
            "hey 10 tushar 20\n",
            "hey 20 tushar 10\n"
          ]
        }
      ]
    },
    {
      "cell_type": "code",
      "source": [
        "#string slicing operator and indexing\n",
        "s=\"RAJASTHAN\"\n",
        "s[0]"
      ],
      "metadata": {
        "colab": {
          "base_uri": "https://localhost:8080/",
          "height": 36
        },
        "id": "y98lNdAWUGqy",
        "outputId": "6052b0ea-8f23-47ef-8dec-9a85eadd9ea8"
      },
      "execution_count": 28,
      "outputs": [
        {
          "output_type": "execute_result",
          "data": {
            "text/plain": [
              "'R'"
            ],
            "application/vnd.google.colaboratory.intrinsic+json": {
              "type": "string"
            }
          },
          "metadata": {},
          "execution_count": 28
        }
      ]
    },
    {
      "cell_type": "code",
      "source": [
        "#string slicing operator and indexing\n",
        "s=\"RAJASTHAN\"\n",
        "s[-9]"
      ],
      "metadata": {
        "colab": {
          "base_uri": "https://localhost:8080/",
          "height": 36
        },
        "id": "Na9r0oPMU9tw",
        "outputId": "997a0c69-e58b-474a-b9e1-efb7b665742d"
      },
      "execution_count": 29,
      "outputs": [
        {
          "output_type": "execute_result",
          "data": {
            "text/plain": [
              "'R'"
            ],
            "application/vnd.google.colaboratory.intrinsic+json": {
              "type": "string"
            }
          },
          "metadata": {},
          "execution_count": 29
        }
      ]
    },
    {
      "cell_type": "code",
      "source": [
        "#string basically to extract some portion of the data\n",
        "#slicing   var[start : stop : [step=1]]\n",
        "\n",
        "#step is exclusive ,0:3\n",
        "s=\"RAJASTHAN\"\n",
        "s[0:4]  #4th not included"
      ],
      "metadata": {
        "colab": {
          "base_uri": "https://localhost:8080/",
          "height": 36
        },
        "id": "a7PwX0yTVGSm",
        "outputId": "2f5a4b76-20bb-47de-f036-44cf668c0bed"
      },
      "execution_count": 31,
      "outputs": [
        {
          "output_type": "execute_result",
          "data": {
            "text/plain": [
              "'RAJA'"
            ],
            "application/vnd.google.colaboratory.intrinsic+json": {
              "type": "string"
            }
          },
          "metadata": {},
          "execution_count": 31
        }
      ]
    },
    {
      "cell_type": "code",
      "source": [
        "#step is exclusive ,0:3\n",
        "s=\"RAJASTHAN\"\n",
        "s[0:10:2]  #4th not included"
      ],
      "metadata": {
        "colab": {
          "base_uri": "https://localhost:8080/",
          "height": 36
        },
        "id": "qVkU0K0vVkcN",
        "outputId": "1347e3e7-2456-4577-95a6-ac7d74448c63"
      },
      "execution_count": 34,
      "outputs": [
        {
          "output_type": "execute_result",
          "data": {
            "text/plain": [
              "'RJSHN'"
            ],
            "application/vnd.google.colaboratory.intrinsic+json": {
              "type": "string"
            }
          },
          "metadata": {},
          "execution_count": 34
        }
      ]
    },
    {
      "cell_type": "code",
      "source": [
        "s=\"RAJASTHAN\"\n",
        "s[0:]"
      ],
      "metadata": {
        "colab": {
          "base_uri": "https://localhost:8080/",
          "height": 36
        },
        "id": "jyNwwcHFV2Y2",
        "outputId": "e1246e12-7ce2-401d-d6fa-5886d6395aba"
      },
      "execution_count": 35,
      "outputs": [
        {
          "output_type": "execute_result",
          "data": {
            "text/plain": [
              "'RAJASTHAN'"
            ],
            "application/vnd.google.colaboratory.intrinsic+json": {
              "type": "string"
            }
          },
          "metadata": {},
          "execution_count": 35
        }
      ]
    },
    {
      "cell_type": "code",
      "source": [
        "s=\"RAJASTHAN\"\n",
        "s[0:5:-1]"
      ],
      "metadata": {
        "colab": {
          "base_uri": "https://localhost:8080/",
          "height": 36
        },
        "id": "EL8ItNjHWSGe",
        "outputId": "8c081049-dc21-4723-cbe2-878878c752d5"
      },
      "execution_count": 37,
      "outputs": [
        {
          "output_type": "execute_result",
          "data": {
            "text/plain": [
              "''"
            ],
            "application/vnd.google.colaboratory.intrinsic+json": {
              "type": "string"
            }
          },
          "metadata": {},
          "execution_count": 37
        }
      ]
    },
    {
      "cell_type": "code",
      "source": [
        "s=\"RAJASTHAN\"\n",
        "s[0:5:-3]\n",
        "\n",
        "# 0 1 2 3\n",
        "#0-3 --> -3"
      ],
      "metadata": {
        "colab": {
          "base_uri": "https://localhost:8080/",
          "height": 36
        },
        "id": "kft72glVWu9Y",
        "outputId": "466078cd-7de5-4109-8fc5-879eb828e99f"
      },
      "execution_count": 39,
      "outputs": [
        {
          "output_type": "execute_result",
          "data": {
            "text/plain": [
              "''"
            ],
            "application/vnd.google.colaboratory.intrinsic+json": {
              "type": "string"
            }
          },
          "metadata": {},
          "execution_count": 39
        }
      ]
    },
    {
      "cell_type": "code",
      "source": [
        "s=\"RAJASTHAN\"\n",
        "s[-1:-4]\n",
        "\n",
        "# -1+1 =0"
      ],
      "metadata": {
        "colab": {
          "base_uri": "https://localhost:8080/",
          "height": 36
        },
        "id": "6-wlZuXPW4G1",
        "outputId": "e5854dbc-fc1e-4d2a-975d-3debea16564f"
      },
      "execution_count": 41,
      "outputs": [
        {
          "output_type": "execute_result",
          "data": {
            "text/plain": [
              "''"
            ],
            "application/vnd.google.colaboratory.intrinsic+json": {
              "type": "string"
            }
          },
          "metadata": {},
          "execution_count": 41
        }
      ]
    },
    {
      "cell_type": "code",
      "source": [
        "s=\"RAJASTHAN\"\n",
        "s[-1:-4:-1]\n",
        "\n",
        "#-1+-1 =-2\n",
        "#-2+-1 =-3"
      ],
      "metadata": {
        "colab": {
          "base_uri": "https://localhost:8080/",
          "height": 36
        },
        "id": "dhhYXCqtXdw9",
        "outputId": "5e05501a-dd8d-4943-e071-35107b36013d"
      },
      "execution_count": 43,
      "outputs": [
        {
          "output_type": "execute_result",
          "data": {
            "text/plain": [
              "'NAH'"
            ],
            "application/vnd.google.colaboratory.intrinsic+json": {
              "type": "string"
            }
          },
          "metadata": {},
          "execution_count": 43
        }
      ]
    },
    {
      "cell_type": "code",
      "source": [
        "s=\"RAJASTHAN\"\n",
        "s[-5:-1:1]"
      ],
      "metadata": {
        "colab": {
          "base_uri": "https://localhost:8080/",
          "height": 36
        },
        "id": "Dj_XNOKDXsn0",
        "outputId": "81d9cd20-9743-428b-9ba8-6c3014269d18"
      },
      "execution_count": 45,
      "outputs": [
        {
          "output_type": "execute_result",
          "data": {
            "text/plain": [
              "'STHA'"
            ],
            "application/vnd.google.colaboratory.intrinsic+json": {
              "type": "string"
            }
          },
          "metadata": {},
          "execution_count": 45
        }
      ]
    },
    {
      "cell_type": "code",
      "source": [
        "s=\"RAJASTHAN\"\n",
        "s[-1: :1]"
      ],
      "metadata": {
        "colab": {
          "base_uri": "https://localhost:8080/",
          "height": 36
        },
        "id": "mBvpDoweX9CD",
        "outputId": "dcdb8926-abf3-42f6-821d-acbb71b670bd"
      },
      "execution_count": 46,
      "outputs": [
        {
          "output_type": "execute_result",
          "data": {
            "text/plain": [
              "'N'"
            ],
            "application/vnd.google.colaboratory.intrinsic+json": {
              "type": "string"
            }
          },
          "metadata": {},
          "execution_count": 46
        }
      ]
    },
    {
      "cell_type": "code",
      "source": [
        "s=\"RAJASTHAN\"\n",
        "s[-1: :-1]"
      ],
      "metadata": {
        "colab": {
          "base_uri": "https://localhost:8080/",
          "height": 36
        },
        "id": "i_sQe9SbYKkJ",
        "outputId": "a41bd601-7319-44f6-cb1b-7aaf55b24e6d"
      },
      "execution_count": 47,
      "outputs": [
        {
          "output_type": "execute_result",
          "data": {
            "text/plain": [
              "'NAHTSAJAR'"
            ],
            "application/vnd.google.colaboratory.intrinsic+json": {
              "type": "string"
            }
          },
          "metadata": {},
          "execution_count": 47
        }
      ]
    },
    {
      "cell_type": "code",
      "source": [
        "s=\"RAJASTHAN\"\n",
        "s[4: :-1]\n",
        "\n",
        "#4      = 4\n",
        "#4 + -1 = 3\n",
        "#3 + -1 = 2\n",
        "#2 + -1 = 1\n",
        "#1 + -1 = 0"
      ],
      "metadata": {
        "colab": {
          "base_uri": "https://localhost:8080/",
          "height": 36
        },
        "id": "2duloXmGYPJH",
        "outputId": "72fd38ee-3c79-4b1d-c093-ff41a2729ecf"
      },
      "execution_count": 49,
      "outputs": [
        {
          "output_type": "execute_result",
          "data": {
            "text/plain": [
              "'SAJAR'"
            ],
            "application/vnd.google.colaboratory.intrinsic+json": {
              "type": "string"
            }
          },
          "metadata": {},
          "execution_count": 49
        }
      ]
    },
    {
      "cell_type": "code",
      "source": [
        "s=\"RAJASTHAN\"\n",
        "s[-1: 3 :1]"
      ],
      "metadata": {
        "colab": {
          "base_uri": "https://localhost:8080/",
          "height": 36
        },
        "id": "7mWjlGnuYxzz",
        "outputId": "50175ef4-bc4b-46c5-f812-0f0068fd1e11"
      },
      "execution_count": 50,
      "outputs": [
        {
          "output_type": "execute_result",
          "data": {
            "text/plain": [
              "''"
            ],
            "application/vnd.google.colaboratory.intrinsic+json": {
              "type": "string"
            }
          },
          "metadata": {},
          "execution_count": 50
        }
      ]
    },
    {
      "cell_type": "code",
      "source": [
        "s=\"RAJASTHAN\"\n",
        "s[-1: 3 :-1]"
      ],
      "metadata": {
        "colab": {
          "base_uri": "https://localhost:8080/",
          "height": 36
        },
        "id": "H_ilVj82ZAHv",
        "outputId": "52ebcf3d-271d-40a7-d83b-e6f969e46448"
      },
      "execution_count": 52,
      "outputs": [
        {
          "output_type": "execute_result",
          "data": {
            "text/plain": [
              "'NAHTS'"
            ],
            "application/vnd.google.colaboratory.intrinsic+json": {
              "type": "string"
            }
          },
          "metadata": {},
          "execution_count": 52
        }
      ]
    },
    {
      "cell_type": "code",
      "source": [],
      "metadata": {
        "id": "rVd2b9BNZEar"
      },
      "execution_count": null,
      "outputs": []
    }
  ]
}